{
 "cells": [
  {
   "cell_type": "code",
   "execution_count": 1,
   "metadata": {},
   "outputs": [],
   "source": [
    "tables = {\n",
    "    'fact_table':\n",
    "        {'songplays': 'playid, start_time, userid, level, songid, artistid, sessionid, location, user_agent'},\n",
    "    'dimension_table':\n",
    "        {'songs': 'songid, title, artistid, year, duration',\n",
    "         'users': 'userid, first_name, last_name, gender,level',\n",
    "         'artists': 'artistid, name, location, lattitude, longitude',\n",
    "         'time': 'start_time, hour, day, week, month , year, weekday'}\n",
    "}\n"
   ]
  },
  {
   "cell_type": "code",
   "execution_count": 2,
   "metadata": {},
   "outputs": [
    {
     "name": "stdout",
     "output_type": "stream",
     "text": [
      "key_table: songplays, value_columns: playid, start_time, userid, level, songid, artistid, sessionid, location, user_agent\n"
     ]
    }
   ],
   "source": [
    "for k, v in tables.items():\n",
    "    if k in 'fact_table':\n",
    "        for table in v:\n",
    "            print(f\"key_table: {table}, value_columns: {v[table]}\")"
   ]
  },
  {
   "cell_type": "code",
   "execution_count": 7,
   "metadata": {},
   "outputs": [],
   "source": [
    "import sys\n",
    "msg = {}\n",
    "\n",
    "msg['Subject'] = \"Auto Hella Restart Report \" + \".\" +sys.argv[1]\n"
   ]
  },
  {
   "cell_type": "code",
   "execution_count": 8,
   "metadata": {},
   "outputs": [
    {
     "name": "stdout",
     "output_type": "stream",
     "text": [
      "Auto Hella Restart Report .--ip=127.0.0.1\n"
     ]
    }
   ],
   "source": [
    "print(msg['Subject'])\n"
   ]
  },
  {
   "cell_type": "code",
   "execution_count": 1,
   "metadata": {},
   "outputs": [],
   "source": [
    "tables = {\n",
    "    'fact_table':\n",
    "        {'songplays': 'playid, start_time, userid, level, songid, artistid, sessionid, location, user_agent'},\n",
    "    'dimension_table':\n",
    "        {'songs': 'songid, title, artistid, year, duration',\n",
    "         'users': 'userid, first_name, last_name, gender,level',\n",
    "         'artists': 'artistid, name, location, lattitude, longitude',\n",
    "         'time': 'start_time, hour, day, week, month , year, weekday'}\n",
    "}"
   ]
  },
  {
   "cell_type": "code",
   "execution_count": 2,
   "metadata": {},
   "outputs": [
    {
     "name": "stdout",
     "output_type": "stream",
     "text": [
      "songplays\n",
      "songs\n",
      "users\n",
      "artists\n",
      "time\n"
     ]
    }
   ],
   "source": [
    "for k, v in tables.items():\n",
    "    for t in v:\n",
    "        print(t)"
   ]
  },
  {
   "cell_type": "code",
   "execution_count": 7,
   "metadata": {},
   "outputs": [
    {
     "name": "stdout",
     "output_type": "stream",
     "text": [
      "<class 'list'>\n"
     ]
    }
   ],
   "source": [
    "tests = [t for k, v in tables.items() for t in v]\n",
    "print(type(tests))"
   ]
  },
  {
   "cell_type": "code",
   "execution_count": 6,
   "metadata": {},
   "outputs": [
    {
     "name": "stdout",
     "output_type": "stream",
     "text": [
      "songplays\n",
      "songs\n",
      "users\n",
      "artists\n",
      "time\n"
     ]
    }
   ],
   "source": [
    "for test in tests:\n",
    "    print(test)"
   ]
  },
  {
   "cell_type": "code",
   "execution_count": 8,
   "metadata": {},
   "outputs": [],
   "source": [
    "stage_tables = {'log_data': 'staging_events',\n",
    "                'song_data/A/A/A/': 'staging_songs'}\n"
   ]
  },
  {
   "cell_type": "code",
   "execution_count": 9,
   "metadata": {},
   "outputs": [
    {
     "name": "stdout",
     "output_type": "stream",
     "text": [
      "staging_events\n"
     ]
    }
   ],
   "source": [
    "for k, v in stage_tables.items():\n",
    "    if k in 'log_data':\n",
    "        print(v)"
   ]
  },
  {
   "cell_type": "code",
   "execution_count": 10,
   "metadata": {},
   "outputs": [],
   "source": [
    "test = ([1, 2, 3],)"
   ]
  },
  {
   "cell_type": "code",
   "execution_count": 12,
   "metadata": {},
   "outputs": [
    {
     "name": "stdout",
     "output_type": "stream",
     "text": [
      "1\n",
      "2\n",
      "3\n"
     ]
    }
   ],
   "source": [
    "for i in test:\n",
    "    for j in i:\n",
    "        print(j)"
   ]
  },
  {
   "cell_type": "code",
   "execution_count": 13,
   "metadata": {},
   "outputs": [],
   "source": [
    "tables = {\n",
    "    'fact_table':\n",
    "        {'songplays': 'playid, start_time, userid, level, songid, artistid, sessionid, location, user_agent'},\n",
    "        {'count': 0},\n",
    "    'dimension_table':\n",
    "        {'songs': 'songid, title, artistid, year, duration', 'count': 0,\n",
    "         'users': 'userid, first_name, last_name, gender,level', 'count': 0,\n",
    "         'artists': 'artistid, name, location, lattitude, longitude', 'count': 0,\n",
    "         'time': 'start_time, hour, day, week, month , year, weekday', 'count': 0}\n",
    "}\n"
   ]
  },
  {
   "cell_type": "code",
   "execution_count": 24,
   "metadata": {},
   "outputs": [
    {
     "name": "stdout",
     "output_type": "stream",
     "text": [
      "False\n"
     ]
    }
   ],
   "source": [
    "for k, v in tables.items():\n",
    "    if k in 'fact_table':\n",
    "        for c in v.items():\n",
    "            if c[0] in 'songplays':\n",
    "                print(c[0] == 'count')"
   ]
  },
  {
   "cell_type": "code",
   "execution_count": null,
   "metadata": {},
   "outputs": [],
   "source": []
  }
 ],
 "metadata": {
  "interpreter": {
   "hash": "6b5f91528752197bca6c3e1979549d4578649a6a4c601aee5773b0eb8afc6b22"
  },
  "kernelspec": {
   "display_name": "Python 3.9.7 ('airflow_project')",
   "language": "python",
   "name": "python3"
  },
  "language_info": {
   "codemirror_mode": {
    "name": "ipython",
    "version": 3
   },
   "file_extension": ".py",
   "mimetype": "text/x-python",
   "name": "python",
   "nbconvert_exporter": "python",
   "pygments_lexer": "ipython3",
   "version": "3.9.7"
  },
  "orig_nbformat": 4
 },
 "nbformat": 4,
 "nbformat_minor": 2
}
